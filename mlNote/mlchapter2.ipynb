{
 "cells": [
  {
   "cell_type": "markdown",
   "metadata": {},
   "source": [
    "## 学習規則\n",
    "1. 重みを初期化\n",
    "2. 訓練データ$x$から値 $\\hat{y}$ を出力\n",
    "3. 重みを更新\n",
    "\n",
    "サンプル$x^{(j)}$に対して重みベクトル$w$の各重み$w_i$は次のようになる。\n",
    "\n",
    "$$w_i := w_i + \\Delta w_i$$\n",
    "\n",
    "ただし、学習率$\\eta\\in[0,1]$を一つ決めて、$\\delta w_i$の値を次のように決める。\n",
    "\n",
    "$$\\Delta w_i = \\eta(y^{j)}-y^{(j)})x^{(j)}_i$$\n",
    "\n",
    "収束が保証されているのは線形分離可能な場合のみである。線形の決定境界で分離できない場合、データセットに対するトレーニングの最大回数（エポック）や誤分類の最大数を設定して対応する。（収束しないので永遠に学習が終わらなくなる）"
   ]
  },
  {
   "cell_type": "code",
   "execution_count": 1,
   "metadata": {},
   "outputs": [],
   "source": [
    "import matplotlib.pyplot as plt\n",
    "import numpy as np"
   ]
  },
  {
   "cell_type": "code",
   "execution_count": 2,
   "metadata": {},
   "outputs": [],
   "source": [
    "# パーセプトロンの実装\n",
    "\n",
    "class Perceptron(object):\n",
    "    def __init__(self, eta = .01, n_iter = 50, random_state = 1):\n",
    "        self.eta = eta                      # float 学習率\n",
    "        self.N_iter = N_iter                # int   訓練回数\n",
    "        self.random_state = random_state    # int   重みを初期化するための乱数シード\n",
    "    \n",
    "    def fit(self, X, y):\n",
    "        \"データから学習させる\"\n",
    "        \"\"\"\n",
    "        status:\n",
    "            X : 訓練データ\n",
    "                サンプル×特徴量の行列\n",
    "            y : 目的変数\n",
    "                行ベクトル\n",
    "        \"\"\"\n",
    "        \n",
    "        rgen = np.random.RandomState(self.random_state)\n",
    "        self.w_ = rgen.normal(loc = .0, scale = .01, size = 1 + X.shape)\n",
    "        self.errors_ = []\n",
    "        \n",
    "        for _ in range(self.n_iter):\n",
    "            errors = 0\n",
    "            for x_i, target in zip(X. y):\n",
    "                update = self.eta + (target - self.predict(xi))\n",
    "                self.w_[1:] += update * x_i     # 重みの更新\n",
    "            \n",
    "            self.errors_.append(errors)\n",
    "        return self\n",
    "    \n",
    "    def net_input(self, X):\n",
    "        return np.dot(X, self.w_[1:]) + self.w_[0]\n",
    "    \n",
    "    def predict(self, X):\n",
    "        return np.where(self.net_input(X) >= .0, 1, -1)"
   ]
  },
  {
   "cell_type": "code",
   "execution_count": null,
   "metadata": {},
   "outputs": [],
   "source": []
  }
 ],
 "metadata": {
  "kernelspec": {
   "display_name": "Python 3",
   "language": "python",
   "name": "python3"
  },
  "language_info": {
   "codemirror_mode": {
    "name": "ipython",
    "version": 3
   },
   "file_extension": ".py",
   "mimetype": "text/x-python",
   "name": "python",
   "nbconvert_exporter": "python",
   "pygments_lexer": "ipython3",
   "version": "3.7.1"
  }
 },
 "nbformat": 4,
 "nbformat_minor": 2
}
